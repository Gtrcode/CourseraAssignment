{
 "cells": [
  {
   "cell_type": "markdown",
   "metadata": {},
   "source": [
    "<center>\n",
    "    <img src=\"https://cf-courses-data.s3.us.cloud-object-storage.appdomain.cloud/IBMDeveloperSkillsNetwork-DS0105EN-SkillsNetwork/labs/Module2/images/SN_web_lightmode.png\" width=\"300\" alt=\"cognitiveclass.ai logo\"  />\n",
    "</center>\n"
   ]
  },
  {
   "cell_type": "markdown",
   "metadata": {},
   "source": [
    "#### Add your code below following the instructions given in the course\n"
   ]
  },
  {
   "cell_type": "markdown",
   "metadata": {},
   "source": [
    "# My Jupyter Notebook on IBM Watson Studio"
   ]
  },
  {
   "cell_type": "markdown",
   "metadata": {},
   "source": [
    "**Mohammed sahal**\n",
    "\n",
    " Data scientist intern"
   ]
  },
  {
   "cell_type": "markdown",
   "metadata": {},
   "source": [
    "*I am interested in data science because i am very curious about hoe things works like the Alexa,Youtube recommendation engines and quite a lot more.interested in computer vision and object detection , and aurdino etc. excited to work in artifical intelligence and to understand the math behind it.*"
   ]
  },
  {
   "cell_type": "markdown",
   "metadata": {},
   "source": [
    "### The code below is a print statement in python which prints the output "
   ]
  },
  {
   "cell_type": "code",
   "execution_count": 10,
   "metadata": {},
   "outputs": [
    {
     "name": "stdout",
     "output_type": "stream",
     "text": [
      "Hi To Data science\n"
     ]
    }
   ],
   "source": [
    "print(\"Hi To Data science\")"
   ]
  },
  {
   "cell_type": "markdown",
   "metadata": {},
   "source": [
    "---\n",
    "\n",
    "## My favorite Things\n",
    "\n",
    "1. **Traveling**\n",
    "  - Exploring new places\n",
    "  - Meeting new people\n",
    "  - Trying new foods\n",
    "2. **Reading**\n",
    "  1. Fiction\n",
    "  2. Non-Fiction\n",
    "3. **Exercise**\n",
    "  - Running\n",
    "  - Yoga\n",
    "  - Swimming\n",
    "  \n",
    "[My blog](https://myblog.com)\n",
    "\n",
    "```python\n",
    "def hello():\n",
    "    print(\"hello,world!\")\n",
    "    \n",
    "\"\" life is like a box of chocolates, you never know what you're gonna get.\"\"\n",
    "\n",
    "\n",
    "\n"
   ]
  },
  {
   "cell_type": "markdown",
   "metadata": {},
   "source": [
    "~~Mistakes were made.~~"
   ]
  },
  {
   "cell_type": "code",
   "execution_count": null,
   "metadata": {},
   "outputs": [],
   "source": []
  }
 ],
 "metadata": {
  "kernelspec": {
   "display_name": "Python",
   "language": "python",
   "name": "conda-env-python-py"
  },
  "language_info": {
   "codemirror_mode": {
    "name": "ipython",
    "version": 3
   },
   "file_extension": ".py",
   "mimetype": "text/x-python",
   "name": "python",
   "nbconvert_exporter": "python",
   "pygments_lexer": "ipython3",
   "version": "3.7.12"
  }
 },
 "nbformat": 4,
 "nbformat_minor": 4
}
